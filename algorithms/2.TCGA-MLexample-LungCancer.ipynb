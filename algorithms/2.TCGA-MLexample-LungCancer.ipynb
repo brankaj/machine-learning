{
 "cells": [
  {
   "cell_type": "markdown",
   "metadata": {},
   "source": [
    "# Create a logistic regression model to predict gene mutation from gene expression data in TCGA"
   ]
  },
  {
   "cell_type": "code",
   "execution_count": 1,
   "metadata": {
    "collapsed": false
   },
   "outputs": [],
   "source": [
    "import os\n",
    "import urllib\n",
    "import random\n",
    "import warnings\n",
    "\n",
    "import pandas as pd\n",
    "import numpy as np\n",
    "import matplotlib.pyplot as plt\n",
    "import seaborn as sns\n",
    "from sklearn import preprocessing, grid_search\n",
    "from sklearn.linear_model import SGDClassifier\n",
    "from sklearn.cross_validation import train_test_split\n",
    "from sklearn.metrics import roc_auc_score, roc_curve\n",
    "from sklearn.pipeline import make_pipeline\n",
    "from sklearn.preprocessing import StandardScaler\n",
    "from sklearn.feature_selection import SelectKBest\n",
    "from statsmodels.robust.scale import mad"
   ]
  },
  {
   "cell_type": "code",
   "execution_count": 2,
   "metadata": {
    "collapsed": false
   },
   "outputs": [],
   "source": [
    "%matplotlib inline\n",
    "plt.style.use('seaborn-notebook')"
   ]
  },
  {
   "cell_type": "markdown",
   "metadata": {},
   "source": [
    "## Specify model configuration"
   ]
  },
  {
   "cell_type": "code",
   "execution_count": 3,
   "metadata": {
    "collapsed": false
   },
   "outputs": [],
   "source": [
    "# Parameter Sweep for Hyperparameters\n",
    "n_feature_kept = 500\n",
    "param_fixed = {\n",
    "    'loss': 'log',\n",
    "    'penalty': 'elasticnet',\n",
    "}\n",
    "param_grid = {\n",
    "    'alpha': [10 ** x for x in range(-6, 1)],\n",
    "    'l1_ratio': [0, 0.05, 0.1, 0.2, 0.5, 0.8, 0.9, 0.95, 1],\n",
    "}"
   ]
  },
  {
   "cell_type": "markdown",
   "metadata": {},
   "source": [
    "*Here is some [documentation](http://scikit-learn.org/stable/modules/generated/sklearn.linear_model.SGDClassifier.html) regarding the classifier and hyperparameters*\n",
    "\n",
    "*Here is some [information](https://ghr.nlm.nih.gov/gene/TP53) about TP53*"
   ]
  },
  {
   "cell_type": "markdown",
   "metadata": {},
   "source": [
    "## Load Data"
   ]
  },
  {
   "cell_type": "code",
   "execution_count": 4,
   "metadata": {
    "collapsed": false
   },
   "outputs": [
    {
     "name": "stdout",
     "output_type": "stream",
     "text": [
      "Wall time: 1min 53s\n"
     ]
    }
   ],
   "source": [
    "%%time\n",
    "path = os.path.join('download', 'expression-matrix.tsv.bz2')\n",
    "X = pd.read_table(path, index_col=0)"
   ]
  },
  {
   "cell_type": "code",
   "execution_count": 5,
   "metadata": {
    "collapsed": false
   },
   "outputs": [
    {
     "name": "stdout",
     "output_type": "stream",
     "text": [
      "Wall time: 1min 12s\n"
     ]
    }
   ],
   "source": [
    "%%time\n",
    "path = os.path.join('download', 'mutation-matrix.tsv.bz2')\n",
    "Y = pd.read_table(path, index_col=0)"
   ]
  },
  {
   "cell_type": "code",
   "execution_count": 6,
   "metadata": {
    "collapsed": false
   },
   "outputs": [],
   "source": [
    "# GENES: AKT1, ALK, BRAF, DDR2, EGFR, ERBB2, KRAS, MAP2K1, NRAS, PIK3CA, PTEN, RET, RIT1, ROS1\n",
    "\n",
    "list_of_tsgenes = [207,238,673,4921,1956,2064,3845,5604,4893,5290,5728,5979,6016,6098]\n",
    "\n",
    "AUROCS_train = []\n",
    "AUROCS_test = []\n",
    "p = []"
   ]
  },
  {
   "cell_type": "code",
   "execution_count": 7,
   "metadata": {
    "collapsed": false
   },
   "outputs": [
    {
     "name": "stdout",
     "output_type": "stream",
     "text": [
      "Wall time: 0 ns\n",
      "Wall time: 0 ns\n",
      "Wall time: 0 ns\n",
      "Wall time: 0 ns\n",
      "Wall time: 0 ns\n",
      "Wall time: 0 ns\n",
      "Wall time: 0 ns\n",
      "Wall time: 0 ns\n",
      "Wall time: 0 ns\n",
      "Wall time: 0 ns\n",
      "Wall time: 0 ns\n",
      "Wall time: 0 ns\n",
      "Wall time: 0 ns\n",
      "Wall time: 0 ns\n"
     ]
    }
   ],
   "source": [
    "for GENE in list_of_tsgenes:\n",
    "    \n",
    "    y = Y[str(GENE)]\n",
    "    # Here are the percentage of tumors with NF1\n",
    "    per = y.value_counts(True)\n",
    "    # Set aside 10% of the data for testing, this can only be done where the number of mutations is large enough\n",
    "    X_train, X_test, y_train, y_test = train_test_split(X, y, test_size=0.1, random_state=0)\n",
    "    'Size: {:,} features, {:,} training samples, {:,} testing samples'.format(len(X.columns), len(X_train), len(X_test))\n",
    "    def fs_mad(x, y):\n",
    "        \"\"\"    \n",
    "        Get the median absolute deviation (MAD) for each column of x\n",
    "        \"\"\"\n",
    "        scores = mad(x) \n",
    "        return scores, np.array([np.NaN]*len(scores))\n",
    "\n",
    "    # select the top features with the highest MAD\n",
    "    feature_select = SelectKBest(fs_mad, k=n_feature_kept)\n",
    "    # Include loss='log' in param_grid doesn't work with pipeline somehow\n",
    "    clf = SGDClassifier(random_state=0, class_weight='balanced',\n",
    "                    loss=param_fixed['loss'], penalty=param_fixed['penalty'])\n",
    "\n",
    "    # joblib is used to cross-validate in parallel by setting `n_jobs=-1` in GridSearchCV\n",
    "    # Supress joblib warning. See https://github.com/scikit-learn/scikit-learn/issues/6370\n",
    "    warnings.filterwarnings('ignore', message='Changing the shape of non-C contiguous array')\n",
    "    clf_grid = grid_search.GridSearchCV(estimator=clf, param_grid=param_grid, n_jobs=-1, scoring='roc_auc')\n",
    "    pipeline = make_pipeline(\n",
    "        feature_select,  # Feature selection\n",
    "        StandardScaler(),  # Feature scaling\n",
    "        clf_grid)\n",
    "    %%time\n",
    "    # Fit the model (the computationally intensive part)\n",
    "    pipeline.fit(X=X_train, y=y_train)\n",
    "    best_clf = clf_grid.best_estimator_\n",
    "    feature_mask = feature_select.get_support()  # Get a boolean array indicating the selected features\n",
    "    y_pred_train = pipeline.decision_function(X_train)\n",
    "    y_pred_test = pipeline.decision_function(X_test)\n",
    "\n",
    "    def get_threshold_metrics(y_true, y_pred):\n",
    "        roc_columns = ['fpr', 'tpr', 'threshold']\n",
    "        roc_items = zip(roc_columns, roc_curve(y_true, y_pred))\n",
    "        roc_df = pd.DataFrame.from_items(roc_items)\n",
    "        auroc = roc_auc_score(y_true, y_pred)\n",
    "        return {'auroc': auroc, 'roc_df': roc_df}\n",
    "\n",
    "    metrics_train = get_threshold_metrics(y_train, y_pred_train)\n",
    "    metrics_test = get_threshold_metrics(y_test, y_pred_test)\n",
    "    \n",
    "    AUROCS_train += [metrics_train['auroc']]\n",
    "    AUROCS_test += [metrics_test['auroc']]\n",
    "    p += [per[1]]\n",
    "  "
   ]
  },
  {
   "cell_type": "code",
   "execution_count": 8,
   "metadata": {
    "collapsed": false
   },
   "outputs": [
    {
     "data": {
      "image/png": "[encoded data removed]",
      "text/plain": [
       "<matplotlib.figure.Figure at 0xbcbc780>"
      ]
     },
     "metadata": {},
     "output_type": "display_data"
    }
   ],
   "source": [
    "ind = np.arange(len(AUROCS_train))  # the x locations for the groups\n",
    "width = 0.35       # the width of the bars\n",
    "\n",
    "fig, ax = plt.subplots()\n",
    "train_results = ax.bar(ind, AUROCS_train, width, color='g')\n",
    "\n",
    "test_results = ax.bar(ind + width, AUROCS_test, width, color='m')\n",
    "\n",
    "per_results = ax.bar(ind, p, 2*width, color='y')\n",
    "\n",
    "# add some text for labels, title and axes ticks\n",
    "ax.set_ylabel('AUROCs')\n",
    "ax.set_title('AUROCs for lung cancer genes')\n",
    "ax.set_xlabel('List of genes')\n",
    "ax.set_xticks(ind + width)\n",
    "ax.set_xticklabels(list_of_tsgenes)\n",
    "ax.set_yticks(np.arange(0, 1.11, 0.1))\n",
    "\n",
    "ax.legend((train_results[0], test_results[0], per_results[0]), ('Train', 'Test','%'))\n",
    "\n",
    "def autolabel(rects):\n",
    "    # attach some text labels\n",
    "    for rect in rects:\n",
    "        height = rect.get_height()\n",
    "        ax.text(rect.get_x() + rect.get_width()/2., 1.05*height,\n",
    "                '%.2f' % height,\n",
    "                ha='center', va='bottom')\n",
    "\n",
    "autolabel(train_results)\n",
    "autolabel(test_results)\n",
    "autolabel(per_results)\n",
    "\n",
    "plt.show()\n"
   ]
  }
 ],
 "metadata": {
  "anaconda-cloud": {},
  "celltoolbar": "Raw Cell Format",
  "kernelspec": {
   "display_name": "Python [cognoma-machine-learning]",
   "language": "python",
   "name": "Python [cognoma-machine-learning]"
  },
  "language_info": {
   "codemirror_mode": {
    "name": "ipython",
    "version": 3
   },
   "file_extension": ".py",
   "mimetype": "text/x-python",
   "name": "python",
   "nbconvert_exporter": "python",
   "pygments_lexer": "ipython3",
   "version": "3.5.2"
  }
 },
 "nbformat": 4,
 "nbformat_minor": 0
}
